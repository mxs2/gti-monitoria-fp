{
 "cells": [
  {
   "cell_type": "markdown",
   "metadata": {
    "jp-MarkdownHeadingCollapsed": true
   },
   "source": [
    "# Lista de Exercícios 03"
   ]
  },
  {
   "cell_type": "markdown",
   "metadata": {},
   "source": [
    "## Exercício 1\n",
    "Desenvolva um programa para ler a quantidade de pessoas de um grupo. Para cada integrante informe o peso. O algoritmo deve exibir a média dos pesos e quantos estão acima de 80kg:"
   ]
  },
  {
   "cell_type": "code",
   "execution_count": null,
   "metadata": {
    "scrolled": true
   },
   "outputs": [],
   "source": [
    "quantidade = int(input(\"Digite a quantidade de pessoas: \"))\n",
    "soma = 0\n",
    "contador = 0\n",
    "\n",
    "for i in range(quantidade):\n",
    "    leitura = int(input(\"Digite o peso da pessoa: \"))\n",
    "    soma += leitura\n",
    "    if leitura >= 80:\n",
    "        contador += 1\n",
    "\n",
    "resultado = soma / quantidade\n",
    "\n",
    "print(\"A média de pesos é:\", resultado)\n",
    "print(\"Pessoas com peso acima de 80kg:\", contador)"
   ]
  },
  {
   "cell_type": "markdown",
   "metadata": {},
   "source": [
    "## Exercício 2\n",
    "A funerária Sua Hora Chegou possui vários caixões. O algoritmo deverá\n",
    "cadastrar o código dos caixões até o usuário digitar -1 (quando digitar -1 ele\n",
    "encerra) e sair do cadastro. Por fim, o algoritmo mostrará o número de caixões\n",
    "cadastrados. Utilize o while."
   ]
  },
  {
   "cell_type": "code",
   "execution_count": null,
   "metadata": {},
   "outputs": [],
   "source": [
    "contador = 0 \n",
    "\n",
    "while True:\n",
    "    codigo = int(input(\"Digite o código do caixão: \"))\n",
    "    if codigo == -1:\n",
    "        print(\"Você encerrou o programa\")\n",
    "        break\n",
    "    else:\n",
    "        contador += 1\n",
    "        continue \n",
    "\n",
    "print(\"A quantidade de caixões é:\", contador)\n"
   ]
  },
  {
   "cell_type": "markdown",
   "metadata": {},
   "source": [
    "## Exercício 3\n",
    "Faça um algoritmo que receba idades de 6 pessoas. Por fim, o algoritmo deve\n",
    "informar:\n",
    "\n",
    "a) quantas idades foram lidas; <br/>\n",
    "b) maior idade; <br/>\n",
    "c) menor idade; <br/>\n",
    "d) média das idades. <br/>\n"
   ]
  },
  {
   "cell_type": "code",
   "execution_count": null,
   "metadata": {},
   "outputs": [],
   "source": [
    "pessoas = [] \n",
    "soma = 0 \n",
    "\n",
    "for i in range(6):\n",
    "    idade = int(input(\"Digite a idade da pessoa:\" ))\n",
    "    pessoas.append(idade)\n",
    "    soma += idade \n",
    "media = soma/len(pessoas)\n",
    "\n",
    "print(len(pessoas)) \n",
    "print(max(pessoas))\n",
    "print(min(pessoas))\n",
    "print(\"A média de idades é: \", media)\n"
   ]
  },
  {
   "cell_type": "markdown",
   "metadata": {},
   "source": [
    "## Exercício 4 \n",
    "Foi realizada uma pesquisa de algumas características físicas de 5 alunos de\n",
    "um curso, a qual coletou os seguintes dados referentes a cada pessoa para\n",
    "serem analisados:\n",
    "\n",
    "a) gênero (masculino e feminino) <br/> \n",
    "b) cor dos olhos (azuis, verdes ou castanhos) <br/> \n",
    "c) cor dos cabelos ( louros, castanhos, pretos) <br/> \n",
    "d) idade <br/> \n",
    "\n",
    "Faça um algoritmo que determine e escreva:\n",
    "\n",
    "a) a quantidade de pessoas do sexo feminino cuja idade está entre 18 e 35; <br/>\n",
    "b) a quantidade de pessoas que tenham olhos castanhos e cabelos pretos."
   ]
  },
  {
   "cell_type": "code",
   "execution_count": null,
   "metadata": {},
   "outputs": [],
   "source": [
    "feminino = 0\n",
    "contador_olhos = 0\n",
    "\n",
    "for i in range(5): \n",
    "    genero = input(\"Digite o gênero da pessoa \" + str(i+1) + \": \") \n",
    "    \n",
    "    if genero == \"feminino\":\n",
    "        idade = int(input(\"Digite a idade da pessoa \" + str(i+1) + \": \"))\n",
    "\n",
    "        if idade >= 18 and idade <= 35:\n",
    "            feminino += 1\n",
    "\n",
    "    olhos = input(\"Digite a cor dos olhos da pessoa \" + str(i+1) + \": \")\n",
    "    cabelo = input(\"Digite a cor dos cabelos da pessoa \" + str(i+1) + \": \")\n",
    "\n",
    "    if olhos == \"castanhos\" and cabelo == \"pretos\":\n",
    "        contador_olhos += 1 \n",
    "\n",
    "print(\"A quantidade de pessoas do sexo feminino cuja idade está entre 18 e 35 é: \", feminino)\n",
    "print(\"A quantidade de pessoas que tenham olhos castanhos e cabelos pretos é: \", olhos)\n"
   ]
  },
  {
   "cell_type": "markdown",
   "metadata": {},
   "source": [
    "## Exercício 5\n",
    "Uma empresa irá realizar uma queima de estoque com os produtos que tiverem poucas unidades disponíveis. Os descontos aplicados seguem aos seguintes critérios:\n",
    "\n",
    "40% de desconto - até 2 unidades <br/>\n",
    "30% de desconto - entre 3 e 5 unidades <br/>\n",
    "20% de desconto - entre 6 e 9 unidades <br/>\n",
    "10% de desconto - 10 unidades ou mais <br/>\n",
    "\n",
    "\n",
    "Faça um programa que receba o código do produto (número inteiro positivo), o valor unitário e o total em estoque. Para cada produto informado o sistema deverá apresentar qual desconto foi concedido e o novo valor unitário. O sistema irá finalizar quando forem digitados 6 códigos do produto.\n"
   ]
  },
  {
   "cell_type": "code",
   "execution_count": null,
   "metadata": {},
   "outputs": [],
   "source": [
    "for i in range(6):\n",
    "    codigo = int(input(\"Digite o código do produto: \"))\n",
    "    if codigo <= 0:\n",
    "        print(\"Digite um código válido.\")\n",
    "        continue\n",
    "    \n",
    "    valor_unitario = float(input(\"Digite o valor unitário: \"))\n",
    "    total_estoque = int(input(\"Digite o total em estoque: \"))\n",
    "    \n",
    "    if total_estoque <= 2:\n",
    "        desconto = 0.4\n",
    "    elif 3 <= total_estoque <= 5:\n",
    "        desconto = 0.3\n",
    "    elif 6 <= total_estoque <= 9:\n",
    "        desconto = 0.2\n",
    "    else:\n",
    "        desconto = 0.1\n",
    "    \n",
    "    novo_valor = valor_unitario * (1 - desconto)\n",
    "    \n",
    "    print(\"Desconto concedido:\", int(desconto * 100), \"%\")\n",
    "    print(\"Novo valor unitário:\", novo_valor)\n"
   ]
  },
  {
   "cell_type": "markdown",
   "metadata": {},
   "source": [
    "## Exercício 6\n",
    "Desenvolva um programa utilizando o for que faça a tabuada de um número\n",
    "inteiro que será digitado pelo usuário. Mas a tabuada não deve\n",
    "necessariamente iniciar em 1 e terminar em 10, o valor inicial e final devem ser\n",
    "informados pelo usuário.\n",
    "\n",
    "\n",
    "Segue um exemplo:\n",
    "\n",
    "\n",
    "Montar a tabuada do: 5 <br/>\n",
    "Começar por: 4 <br/>\n",
    "Terminar em: 7 <br/>\n",
    "\n",
    "\n",
    "Saída de dados:\n",
    "\n",
    "\n",
    "5 x 4 = 20 <br/>\n",
    "5 x 5 = 25 <br/>\n",
    "5 x 6 = 30 <br/>\n",
    "5 x 7 = 35 <br/>"
   ]
  },
  {
   "cell_type": "code",
   "execution_count": null,
   "metadata": {},
   "outputs": [],
   "source": [
    "numero_escolhido = int(input(\"Montar a tabuada do: \"))\n",
    "inicio = int(input(\"Começar por: \"))\n",
    "fim = int(input(\"Terminar em: \"))\n",
    "\n",
    "print(\"Saída de dados:\")\n",
    "for i in range(inicio, fim+1):\n",
    "    print(numero_escolhido, \"x\", i, \"=\", numero_escolhido*i)\n"
   ]
  },
  {
   "cell_type": "markdown",
   "metadata": {
    "jp-MarkdownHeadingCollapsed": true
   },
   "source": [
    "# Lista de Exercícios 04"
   ]
  },
  {
   "cell_type": "markdown",
   "metadata": {
    "jp-MarkdownHeadingCollapsed": true
   },
   "source": [
    "## Exercício 1\n",
    "Uma empresa de pesquisas precisa tabular os resultados da seguinte enquete\n",
    "feita a uma grande quantidade de organizações:\n",
    "\"Qual o melhor Sistema Operacional para uso em servidores?\"\n",
    "As possíveis respostas são:\n",
    "\n",
    "1- Windows Server <br/>\n",
    "2- Linux <br/>\n",
    "3- Mac OS <br/>\n",
    "4- Outro <br/>\n",
    "\n",
    "Você foi contratado para desenvolver um programa (utilizando vetores) que leia\n",
    "o resultado da enquete e informe ao final o resultado da mesma. O programa\n",
    "deverá ler os votos até ser informado o valor 0, que encerra a entrada dos\n",
    "dados. Os valores referentes a cada uma das opções devem ser armazenados\n",
    "num vetor. Após os dados terem sido informados, o programa deverá calcular o\n",
    "total de votos de cada um dos concorrentes."
   ]
  },
  {
   "cell_type": "code",
   "execution_count": null,
   "metadata": {},
   "outputs": [],
   "source": [
    "x = [] \n",
    "verificador = None\n",
    "\n",
    "while verificador != 0:\n",
    "    verificador = int(input(\"Voto:\"))\n",
    "    x.append(verificador)\n",
    "\n",
    "print(x)\n",
    "print(\"Windows Server:\", x.count(1))\n",
    "print(\"Linux:\", x.count(2))\n",
    "print(\"Mac OS:\", x.count(3))\n",
    "print(\"Outro: \", x.count(4))\n"
   ]
  },
  {
   "cell_type": "markdown",
   "metadata": {},
   "source": [
    "## Exercício 2\n",
    "Crie um programa que vai ler vários números e colocá-los em uma lista até\n",
    "que -1 seja digitado (não deve ser adicionado). Depois disso, mostre:\n",
    "\n",
    "a) quantos números foram digitados. <br/>\n",
    "b) a lista de valores, ordenada de forma decrescente <br/>\n",
    "c) se o valor 5 está ou não na lista. <br/>"
   ]
  },
  {
   "cell_type": "code",
   "execution_count": null,
   "metadata": {},
   "outputs": [],
   "source": [
    "x = []\n",
    "verificador = 0\n",
    "\n",
    "while True: \n",
    "    verificador = int(input(\"Digite um número:\"))\n",
    "    if verificador == -1:\n",
    "        break\n",
    "    else: \n",
    "        x.append(verificador)\n",
    "\n",
    "print(len(x))\n",
    "print(sorted(x, reverse=True))\n",
    "print(x.count(5)) \n"
   ]
  },
  {
   "cell_type": "markdown",
   "metadata": {},
   "source": [
    "## Exercício 3\n",
    "Faça um programa que preencha um vetor com 10 números reais, calcule e\n",
    "mostre a quantidade de números negativos e a soma dos números positivos."
   ]
  },
  {
   "cell_type": "code",
   "execution_count": null,
   "metadata": {},
   "outputs": [],
   "source": [
    "x = []\n",
    "verificador = 0 \n",
    "numero_negativo = 0\n",
    "soma_positivo = 0\n",
    "\n",
    "for i in range(10):\n",
    "    verificador = float(input(\"Digite um número:\")) \n",
    "    x.append(verificador)\n",
    "    if verificador < 0: \n",
    "        numero_negativo += 1  \n",
    "    else: \n",
    "        soma_positivo += verificador \n",
    "\n",
    "print(x)\n",
    "print(numero_negativo)\n",
    "print(soma_positivo) \n"
   ]
  },
  {
   "cell_type": "markdown",
   "metadata": {},
   "source": [
    "## Exercício 4\n",
    "Ler um conjunto de números reais, armazenando-o em vetor e calcular o\n",
    "quadrado dos números deste vetor, armazenando o resultado em outro vetor. Os\n",
    "conjuntos têm 10 elementos cada. Imprimir todos os vetores."
   ]
  },
  {
   "cell_type": "code",
   "execution_count": null,
   "metadata": {},
   "outputs": [],
   "source": [
    "n = [] \n",
    "n_quadrado = []\n",
    "x = 0 \n",
    "\n",
    "for i in range(10):\n",
    "    x = float(input(\"Digite um número:\"))\n",
    "    n.append(x)\n",
    "\n",
    "for i in n:\n",
    "    n_quadrado.append(pow(i, 2))\n",
    "\n",
    "print(n) \n",
    "print(n_quadrado)\n"
   ]
  },
  {
   "cell_type": "markdown",
   "metadata": {},
   "source": [
    "## Exercício 5\n",
    "Faça um programa para cadastro de animais silvestres. Serão 10 animais\n",
    "cadastrados. O programa deve receber o nome do animal e perguntar em qual\n",
    "categoria o usuário deseja cadastrá-lo (use listas, uma para cada categoria):\n",
    "\n",
    "1 - Réptil <br/> \n",
    "2 - Mamífero <br/> \n",
    "3 - Ave <br/> \n",
    "4 – Outro <br/> \n",
    "\n",
    "Por fim, o programa deve exibir as quatro listas e informar a quantidade de\n",
    "animais de cada categoria. Segue um exemplo abaixo: \n",
    "\n",
    "<img src=\"./docs/assets/c2ex5.png\" alt=\"Exemplo 1\" width=\"500\"/>"
   ]
  },
  {
   "cell_type": "code",
   "execution_count": null,
   "metadata": {},
   "outputs": [],
   "source": [
    "r = [] \n",
    "m = []\n",
    "a = []\n",
    "o = [] \n",
    "\n",
    "for i in range(10):\n",
    "    animal = input()\n",
    "    verificador = int(input())\n",
    "    if verificador == 1:\n",
    "        r.append(animal)\n",
    "    elif verificador == 2: \n",
    "        m.append(animal)\n",
    "    elif verificador == 3: \n",
    "        a.append(animal)\n",
    "    else:\n",
    "        o.append(animal)\n",
    "\n",
    "print(f\"Répteis: {r} Quantidade: {len(r)}\")\n",
    "print(f\"Mamíferos: {m} Quantidade: {len(m)}\")\n",
    "print(f\"Aves: {a} Quantidade: {len(a)}\")\n",
    "print(f\"Outros: {o} Quantidade: {len(o)}\")\n"
   ]
  },
  {
   "cell_type": "markdown",
   "metadata": {
    "jp-MarkdownHeadingCollapsed": true
   },
   "source": [
    "# Lista de Exercícios 05"
   ]
  },
  {
   "cell_type": "markdown",
   "metadata": {},
   "source": [
    "## Exercício 01\n",
    "Faça um programa que peça ao usuário para inserir:\n",
    "○ uma frase\n",
    "○ uma palavra que está contida na frase\n",
    "○ outra palavra que ele deseja substituir no lugar da primeira palavra inserida.\n",
    "Por fim, o programa exibe a frase modificada, toda em letra maiúscula."
   ]
  },
  {
   "cell_type": "code",
   "execution_count": null,
   "metadata": {},
   "outputs": [],
   "source": [
    "t = input()\n",
    "x = input()\n",
    "y = input()\n",
    "z = t.replace(x, y).upper()\n",
    "print(z)\n"
   ]
  },
  {
   "cell_type": "markdown",
   "metadata": {},
   "source": [
    "## Exercício 02 \n",
    "Por conta da pandemia, o CEF (Curso Estudante Feliz) adotou o Google\n",
    "Classroom como ferramenta para auxiliar o ensino remoto. Para acessá-lo, os\n",
    "estudantes precisam logar com e-mail institucional e senha. A senha inicial,\n",
    "enviada pela Agenda Digital, é gerada automaticamente a partir da data de\n",
    "nascimento do aluno, do seguinte modo: </br> \n",
    "\n",
    "mm + ‘$’ + dd(invertido) + ‘#’ + dd + ‘!’ + mm(invertido) + ‘*’ + aaaa </br>\n",
    "\n",
    "Escreva um programa que leia o dia, mês e ano de nascimento de um\n",
    "estudante e informe a senha de acordo com a formatação acima."
   ]
  },
  {
   "cell_type": "code",
   "execution_count": null,
   "metadata": {},
   "outputs": [],
   "source": [
    "def gerar_senha(dia, mes, ano):\n",
    "  senha = f\"{mes}${(str(dia)[::-1])}#{(dia)}!{(str(mes)[::-1])}*{ano}\"\n",
    "  return senha\n",
    "\n",
    "\n",
    "def main():\n",
    "\n",
    "  # Recebe a data de nascimento do estudante.\n",
    "  dia = int(input(\"Digite o dia do nascimento: \"))\n",
    "  mes = int(input(\"Digite o mês do nascimento: \"))\n",
    "  ano = int(input(\"Digite o ano do nascimento: \"))\n",
    "\n",
    "  # Gera a senha.\n",
    "  senha = gerar_senha(dia, mes, ano)\n",
    "\n",
    "  # Imprime a senha.\n",
    "  print(f\"A senha do Google Classroom é: {senha}\")\n",
    "\n",
    "\n",
    "if __name__ == \"__main__\":\n",
    "  main()\n"
   ]
  },
  {
   "cell_type": "markdown",
   "metadata": {},
   "source": [
    "## Exercício 03\n",
    "Faça uma função que receba uma lista de números e dois valores (limite\n",
    "inferior e limite superior). A função deverá retornar uma lista cujo os\n",
    "elementos são maiores ou iguais ao limite inferior e menores ou iguais ao\n",
    "limite superior. No programa principal, informe 10 números inteiros,\n",
    "armazenando-os numa lista. Informe também o limite inferior e o limite\n",
    "superior. Teste a função implementada e exiba o resultado."
   ]
  },
  {
   "cell_type": "code",
   "execution_count": null,
   "metadata": {},
   "outputs": [],
   "source": [
    "lista = []\n",
    "for i in range(10):\n",
    "    lista.append(int(input()))\n",
    "\n",
    "def limites(lista, inf, sup):\n",
    "    lista2 = []\n",
    "    for i in lista:\n",
    "        if inf <= i <= sup:\n",
    "            lista2.append(i)\n",
    "    return lista2\n",
    "\n",
    "inf = int(input(\"Limite inferior: \"))\n",
    "sup = int(input(\"Limite superior: \"))\n",
    "\n",
    "lista_filtrada = limites(lista, inf, sup)\n",
    "lista_filtrada.sort()\n",
    "\n",
    "print(\"Nova lista:\", lista_filtrada)\n"
   ]
  },
  {
   "cell_type": "markdown",
   "metadata": {},
   "source": [
    "## Exercício 04\n",
    "Desenvolva uma função que permita receber uma variável\n",
    "inteira X inúmeras vezes (deve parar quando o valor digitado for igual a\n",
    "zero). Como retorno da função, para cada valor lido deverá ser\n",
    "imprimido a sequência de 1 até X (o número digitado), com um espaço\n",
    "entre cada número e seu sucessor."
   ]
  },
  {
   "cell_type": "code",
   "execution_count": null,
   "metadata": {},
   "outputs": [],
   "source": [
    "def seq(x):\n",
    "    for i in range(1, x+1):\n",
    "        print(i, end=\" \")\n",
    "    print()\n",
    "\n",
    "x = int(input())\n",
    "\n",
    "while x != 0:\n",
    "    seq(x)\n",
    "    x = int(input())\n"
   ]
  },
  {
   "cell_type": "markdown",
   "metadata": {},
   "source": [
    "## Exercício 05\n",
    "Faça um programa que receba um valor em horas e dê duas opções ao\n",
    "usuário, converter em minutos ou em segundos. A partir da escolha do\n",
    "usuário, o programa deverá chamar a função específica de conversão. A\n",
    "função para converter horas em minutos deverá receber como parâmetro a\n",
    "hora e retornar o valor em minutos. A função para converter horas em\n",
    "segundos deverá receber como parâmetro a hora e retornar o valor em\n",
    "segundos. No programa principal imprima o valor retornado pela função."
   ]
  },
  {
   "cell_type": "code",
   "execution_count": null,
   "metadata": {},
   "outputs": [],
   "source": [
    "def horas_para_minutos(horas):\n",
    "  return horas * 60\n",
    "\n",
    "def horas_para_segundos(horas):\n",
    "  return horas * 3600\n",
    "\n",
    "def main():\n",
    "  horas = float(input(\"Digite o valor em horas: \"))\n",
    "  opcao = int(input(\"Escolha uma opção de conversão (1 para minutos, 2 para segundos): \"))\n",
    "  if opcao == 1:\n",
    "    minutos = horas_para_minutos(horas)\n",
    "    print(f\"{horas} horas equivalem a {minutos} minutos.\")\n",
    "  elif opcao == 2:\n",
    "    segundos = horas_para_segundos(horas)\n",
    "    print(f\"{horas} horas equivalem a {segundos} segundos.\")\n",
    "  else:\n",
    "    print(\"Opção inválida.\")\n",
    "\n",
    "if __name__ == \"__main__\":\n",
    "  main()\n",
    "  "
   ]
  },
  {
   "cell_type": "markdown",
   "metadata": {},
   "source": [
    "# Lista de Exercícios 06"
   ]
  },
  {
   "cell_type": "markdown",
   "metadata": {},
   "source": [
    "## Exercício 01\n",
    "Desenvolva um programa que possua um vetor de 10 números inteiros. Após o\n",
    "usuário inserir os valores, mostre quantos desses números são maiores, menores e\n",
    "iguais ao primeiro elemento do vetor."
   ]
  },
  {
   "cell_type": "code",
   "execution_count": null,
   "metadata": {},
   "outputs": [],
   "source": [
    "vetor = [int(input()) for _ in range(10)]\n",
    "primeiro_elemento = vetor[0]\n",
    "\n",
    "maiores = list(num for num in vetor if num > primeiro_elemento)\n",
    "menores = list(num for num in vetor if num < primeiro_elemento)\n",
    "iguais = vetor.count(primeiro_elemento)\n",
    "\n",
    "print(f\"Maiores: {len(maiores)}\")\n",
    "print(f\"Menores: {len(menores)}\")\n",
    "print(f\"Iguais: {iguais}\")\n"
   ]
  },
  {
   "cell_type": "markdown",
   "metadata": {},
   "source": [
    "## Exercício 02\n",
    "Escreva um programa que lê um arquivo .txt contendo endereços IPs, da seguinte\n",
    "forma:\n",
    "\n",
    "\n",
    "200.135.80.9<br/>\n",
    "192.268.1.1<br/>\n",
    "8.35.67.74<br/>\n",
    "257.32.4.5<br/>\n",
    "85.345.1.2<br/>\n",
    "1.2.3.4<br/>\n",
    "9.8.234.5<br/>\n",
    "192.168.0.256<br/>\n",
    "\n",
    "\n",
    "O programa deve mostrar os IPs indicando os que são válidos e inválidos (um endereço IP válido não pode ter uma de suas partes maior que 255)."
   ]
  },
  {
   "cell_type": "code",
   "execution_count": null,
   "metadata": {},
   "outputs": [],
   "source": [
    "import re\n",
    "\n",
    "def validar_ip(ip):\n",
    "    partes = ip.split('.')\n",
    "    if len(partes) != 4:\n",
    "        return False\n",
    "    for parte in partes:\n",
    "        if not parte.isdigit():\n",
    "            return False\n",
    "        if int(parte) < 0 or int(parte) > 255:\n",
    "            return False\n",
    "    return True\n",
    "\n",
    "with open('ips.txt', 'r') as arquivo:\n",
    "    ips = arquivo.readlines()\n",
    "\n",
    "for ip in ips:\n",
    "    ip = ip.strip()  \n",
    "    if validar_ip(ip):\n",
    "        print(f\"{ip} é um endereço IP válido.\")\n",
    "    else:\n",
    "        print(f\"{ip} NÃO é um endereço IP válido.\")\n"
   ]
  },
  {
   "cell_type": "markdown",
   "metadata": {},
   "source": [
    "## Exercício 03\n",
    "Um corretor quer analisar como foi sua venda no dia. Desenvolva um programa que\n",
    "receba a quantidade de apartamentos vendidos no dia e na sequência:\n",
    "\n",
    "\n",
    "a) Implemente um vetor de números reais chamado areas, correspondente a\n",
    "área de cada um dos apartamentos vendidos (adicione as áreas no vetor);<br/>\n",
    "b) Calcule e mostre na tela a soma das áreas;<br/>\n",
    "c) O maior e o menor apartamento vendido.<br/>"
   ]
  },
  {
   "cell_type": "code",
   "execution_count": null,
   "metadata": {},
   "outputs": [],
   "source": [
    "quantidade_vendida = int(input(\"Quantidade de apartamentos vendidos no dia: \"))\n",
    "\n",
    "areas = []\n",
    "\n",
    "for i in range(quantidade_vendida):\n",
    "    area = float(input(f\"Informe a área do apartamento {i+1}: \"))\n",
    "    areas.append(area)\n",
    "\n",
    "soma_areas = sum(areas)\n",
    "print(f\"A soma das áreas dos apartamentos vendidos é: {soma_areas}\")\n",
    "\n",
    "maior_area = max(areas)\n",
    "menor_area = min(areas)\n",
    "\n",
    "print(f\"O maior apartamento vendido tem {maior_area} metros quadrados.\")\n",
    "print(f\"O menor apartamento vendido tem {menor_area} metros quadrados.\")\n"
   ]
  },
  {
   "cell_type": "markdown",
   "metadata": {},
   "source": [
    "## Exercício 04\n",
    "Faça um programa que tenha duas funções. A primeira função irá receber como\n",
    "parâmetro o nome de um arquivo, e o abrirá em formato de escrita. Nesse arquivo\n",
    "deve ser armazenado o nome e sobrenome de 6 pessoas, 1 pessoa por linha.\n",
    "A segunda função receberá o nome do arquivo criado na função anterior,\n",
    "apresentará um nome e sobrenome por vez e perguntará se o usuário deseja\n",
    "alterá-lo. Se o usuário digitar ‘Sim’, deverá alterar a linha com novas informações,\n",
    "senão, a linha permanece com o mesmo nome e sobrenome. As modificações\n",
    "devem ser salvas no mesmo arquivo."
   ]
  },
  {
   "cell_type": "code",
   "execution_count": null,
   "metadata": {},
   "outputs": [],
   "source": [
    "def escrever_nomes_arquivo(nome_arquivo):\n",
    "    with open(nome_arquivo, 'w') as arquivo:\n",
    "        for _ in range(6):\n",
    "            nome = input(\"Digite o nome: \")\n",
    "            sobrenome = input(\"Digite o sobrenome: \")\n",
    "            arquivo.write(f\"{nome} {sobrenome}\\n\")\n",
    "\n",
    "def alterar_nomes_arquivo(nome_arquivo):\n",
    "    with open(nome_arquivo, 'r+') as arquivo:\n",
    "        linhas = arquivo.readlines()\n",
    "\n",
    "    with open(nome_arquivo, 'w') as arquivo:\n",
    "        for linha in linhas:\n",
    "            nome, sobrenome = linha.strip().split()\n",
    "            print(f\"Nome: {nome}, Sobrenome: {sobrenome}\")\n",
    "            alterar = input(\"Deseja mudar o nome e sobrenome? (sim/não): \").lower()\n",
    "            if alterar == 'sim':\n",
    "                nome = input(\"Novo nome: \")\n",
    "                sobrenome = input(\"Novo sobrenome: \")\n",
    "            arquivo.write(f\"{nome} {sobrenome}\\n\")\n",
    "\n",
    "def main():\n",
    "    nome_arquivo = input(\"Digite o nome do arquivo a ser criado: \")\n",
    "    escrever_nomes_arquivo(nome_arquivo)\n",
    "    print(f\"Arquivo {nome_arquivo} criado com sucesso!\")\n",
    "\n",
    "    alterar_nomes_arquivo(nome_arquivo)\n",
    "    print(\"Alterações salvas com sucesso!\")\n",
    "\n",
    "if __name__ == \"__main__\":\n",
    "    main()\n"
   ]
  },
  {
   "cell_type": "markdown",
   "metadata": {},
   "source": [
    "# Feito com ❤️ por [Mateus Xavier](https://github.com/mxs2)"
   ]
  }
 ],
 "metadata": {
  "kernelspec": {
   "display_name": "Python 3 (ipykernel)",
   "language": "python",
   "name": "python3"
  },
  "language_info": {
   "codemirror_mode": {
    "name": "ipython",
    "version": 3
   },
   "file_extension": ".py",
   "mimetype": "text/x-python",
   "name": "python",
   "nbconvert_exporter": "python",
   "pygments_lexer": "ipython3",
   "version": "3.12.2"
  }
 },
 "nbformat": 4,
 "nbformat_minor": 4
}
